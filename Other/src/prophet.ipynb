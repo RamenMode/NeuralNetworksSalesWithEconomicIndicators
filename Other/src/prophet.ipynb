{
 "cells": [
  {
   "cell_type": "code",
   "execution_count": 4,
   "metadata": {},
   "outputs": [
    {
     "name": "stdout",
     "output_type": "stream",
     "text": [
      "Collecting prophet\n",
      "  Using cached https://files.pythonhosted.org/packages/f0/fa/c382f0ac5abe9f0a4df9d874a5e8843db035fe2f071b5c00a545b1e3c10b/prophet-1.0.1.tar.gz\n",
      "Requirement already satisfied: Cython>=0.22 in /Users/iosevich/opt/anaconda3/lib/python3.7/site-packages (from prophet) (0.29.13)\n",
      "Requirement already satisfied: cmdstanpy==0.9.68 in /Users/iosevich/opt/anaconda3/lib/python3.7/site-packages (from prophet) (0.9.68)\n",
      "Requirement already satisfied: pystan~=2.19.1.1 in /Users/iosevich/opt/anaconda3/lib/python3.7/site-packages (from prophet) (2.19.1.1)\n",
      "Requirement already satisfied: numpy>=1.15.4 in /Users/iosevich/opt/anaconda3/lib/python3.7/site-packages (from prophet) (1.21.2)\n",
      "Requirement already satisfied: pandas>=1.0.4 in /Users/iosevich/opt/anaconda3/lib/python3.7/site-packages (from prophet) (1.3.4)\n",
      "Requirement already satisfied: matplotlib>=2.0.0 in /Users/iosevich/opt/anaconda3/lib/python3.7/site-packages (from prophet) (3.1.1)\n",
      "Requirement already satisfied: LunarCalendar>=0.0.9 in /Users/iosevich/opt/anaconda3/lib/python3.7/site-packages (from prophet) (0.0.9)\n",
      "Requirement already satisfied: convertdate>=2.1.2 in /Users/iosevich/opt/anaconda3/lib/python3.7/site-packages (from prophet) (2.3.2)\n",
      "Requirement already satisfied: holidays>=0.10.2 in /Users/iosevich/opt/anaconda3/lib/python3.7/site-packages (from prophet) (0.13)\n",
      "Requirement already satisfied: setuptools-git>=1.2 in /Users/iosevich/opt/anaconda3/lib/python3.7/site-packages (from prophet) (1.2)\n",
      "Requirement already satisfied: python-dateutil>=2.8.0 in /Users/iosevich/opt/anaconda3/lib/python3.7/site-packages (from prophet) (2.8.0)\n",
      "Requirement already satisfied: tqdm>=4.36.1 in /Users/iosevich/opt/anaconda3/lib/python3.7/site-packages (from prophet) (4.62.3)\n",
      "Requirement already satisfied: ujson in /Users/iosevich/opt/anaconda3/lib/python3.7/site-packages (from cmdstanpy==0.9.68->prophet) (5.1.0)\n",
      "Requirement already satisfied: pytz>=2017.3 in /Users/iosevich/opt/anaconda3/lib/python3.7/site-packages (from pandas>=1.0.4->prophet) (2019.3)\n",
      "Requirement already satisfied: cycler>=0.10 in /Users/iosevich/opt/anaconda3/lib/python3.7/site-packages (from matplotlib>=2.0.0->prophet) (0.10.0)\n",
      "Requirement already satisfied: kiwisolver>=1.0.1 in /Users/iosevich/opt/anaconda3/lib/python3.7/site-packages (from matplotlib>=2.0.0->prophet) (1.1.0)\n",
      "Requirement already satisfied: pyparsing!=2.0.4,!=2.1.2,!=2.1.6,>=2.0.1 in /Users/iosevich/opt/anaconda3/lib/python3.7/site-packages (from matplotlib>=2.0.0->prophet) (2.4.2)\n",
      "Requirement already satisfied: ephem>=3.7.5.3 in /Users/iosevich/opt/anaconda3/lib/python3.7/site-packages (from LunarCalendar>=0.0.9->prophet) (4.1.2)\n",
      "Requirement already satisfied: pymeeus<=1,>=0.3.13 in /Users/iosevich/opt/anaconda3/lib/python3.7/site-packages (from convertdate>=2.1.2->prophet) (0.5.11)\n",
      "Requirement already satisfied: hijri-converter in /Users/iosevich/opt/anaconda3/lib/python3.7/site-packages (from holidays>=0.10.2->prophet) (2.2.2)\n",
      "Requirement already satisfied: korean-lunar-calendar in /Users/iosevich/opt/anaconda3/lib/python3.7/site-packages (from holidays>=0.10.2->prophet) (0.2.1)\n",
      "Requirement already satisfied: six>=1.5 in /Users/iosevich/opt/anaconda3/lib/python3.7/site-packages (from python-dateutil>=2.8.0->prophet) (1.12.0)\n",
      "Requirement already satisfied: setuptools in /Users/iosevich/opt/anaconda3/lib/python3.7/site-packages (from kiwisolver>=1.0.1->matplotlib>=2.0.0->prophet) (41.4.0)\n",
      "Building wheels for collected packages: prophet\n",
      "  Building wheel for prophet (setup.py) ... \u001b[?25lerror\n",
      "\u001b[31m  ERROR: Command errored out with exit status 1:\n",
      "   command: /Users/iosevich/opt/anaconda3/bin/python -u -c 'import sys, setuptools, tokenize; sys.argv[0] = '\"'\"'/private/var/folders/p5/s9qdjvt90gx22xjwh_0xb1s00000gn/T/pip-install-ewozz55_/prophet/setup.py'\"'\"'; __file__='\"'\"'/private/var/folders/p5/s9qdjvt90gx22xjwh_0xb1s00000gn/T/pip-install-ewozz55_/prophet/setup.py'\"'\"';f=getattr(tokenize, '\"'\"'open'\"'\"', open)(__file__);code=f.read().replace('\"'\"'\\r\\n'\"'\"', '\"'\"'\\n'\"'\"');f.close();exec(compile(code, __file__, '\"'\"'exec'\"'\"'))' bdist_wheel -d /private/var/folders/p5/s9qdjvt90gx22xjwh_0xb1s00000gn/T/pip-wheel-pbwtd6ye --python-tag cp37\n",
      "       cwd: /private/var/folders/p5/s9qdjvt90gx22xjwh_0xb1s00000gn/T/pip-install-ewozz55_/prophet/\n",
      "  Complete output (9 lines):\n",
      "  running bdist_wheel\n",
      "  running build\n",
      "  running build_py\n",
      "  creating build\n",
      "  creating build/lib\n",
      "  creating build/lib/prophet\n",
      "  creating build/lib/prophet/stan_model\n",
      "  INFO:pystan:COMPILING THE C++ CODE FOR MODEL anon_model_dfdaf2b8ece8a02eb11f050ec701c0ec NOW.\n",
      "  error: command 'x86_64-apple-darwin13.4.0-clang' failed with exit status 1\n",
      "  ----------------------------------------\u001b[0m\n",
      "\u001b[31m  ERROR: Failed building wheel for prophet\u001b[0m\n",
      "\u001b[?25h  Running setup.py clean for prophet\n",
      "Failed to build prophet\n",
      "Installing collected packages: prophet\n",
      "  Running setup.py install for prophet ... \u001b[?25lerror\n",
      "\u001b[31m    ERROR: Command errored out with exit status 1:\n",
      "     command: /Users/iosevich/opt/anaconda3/bin/python -u -c 'import sys, setuptools, tokenize; sys.argv[0] = '\"'\"'/private/var/folders/p5/s9qdjvt90gx22xjwh_0xb1s00000gn/T/pip-install-ewozz55_/prophet/setup.py'\"'\"'; __file__='\"'\"'/private/var/folders/p5/s9qdjvt90gx22xjwh_0xb1s00000gn/T/pip-install-ewozz55_/prophet/setup.py'\"'\"';f=getattr(tokenize, '\"'\"'open'\"'\"', open)(__file__);code=f.read().replace('\"'\"'\\r\\n'\"'\"', '\"'\"'\\n'\"'\"');f.close();exec(compile(code, __file__, '\"'\"'exec'\"'\"'))' install --record /private/var/folders/p5/s9qdjvt90gx22xjwh_0xb1s00000gn/T/pip-record-u_w0p6wl/install-record.txt --single-version-externally-managed --compile\n",
      "         cwd: /private/var/folders/p5/s9qdjvt90gx22xjwh_0xb1s00000gn/T/pip-install-ewozz55_/prophet/\n",
      "    Complete output (9 lines):\n",
      "    running install\n",
      "    running build\n",
      "    running build_py\n",
      "    creating build\n",
      "    creating build/lib\n",
      "    creating build/lib/prophet\n",
      "    creating build/lib/prophet/stan_model\n",
      "    INFO:pystan:COMPILING THE C++ CODE FOR MODEL anon_model_dfdaf2b8ece8a02eb11f050ec701c0ec NOW.\n",
      "    error: command 'x86_64-apple-darwin13.4.0-clang' failed with exit status 1\n",
      "    ----------------------------------------\u001b[0m\n",
      "\u001b[31mERROR: Command errored out with exit status 1: /Users/iosevich/opt/anaconda3/bin/python -u -c 'import sys, setuptools, tokenize; sys.argv[0] = '\"'\"'/private/var/folders/p5/s9qdjvt90gx22xjwh_0xb1s00000gn/T/pip-install-ewozz55_/prophet/setup.py'\"'\"'; __file__='\"'\"'/private/var/folders/p5/s9qdjvt90gx22xjwh_0xb1s00000gn/T/pip-install-ewozz55_/prophet/setup.py'\"'\"';f=getattr(tokenize, '\"'\"'open'\"'\"', open)(__file__);code=f.read().replace('\"'\"'\\r\\n'\"'\"', '\"'\"'\\n'\"'\"');f.close();exec(compile(code, __file__, '\"'\"'exec'\"'\"'))' install --record /private/var/folders/p5/s9qdjvt90gx22xjwh_0xb1s00000gn/T/pip-record-u_w0p6wl/install-record.txt --single-version-externally-managed --compile Check the logs for full command output.\u001b[0m\n",
      "\u001b[?25hCollecting package metadata (current_repodata.json): done\n",
      "Solving environment: failed with initial frozen solve. Retrying with flexible solve.\n",
      "Collecting package metadata (repodata.json): done\n",
      "Solving environment: failed with initial frozen solve. Retrying with flexible solve.\n",
      "\n",
      "PackagesNotFoundError: The following packages are not available from current channels:\n",
      "\n",
      "  - prophet\n",
      "\n",
      "Current channels:\n",
      "\n",
      "  - https://repo.anaconda.com/pkgs/main/osx-64\n",
      "  - https://repo.anaconda.com/pkgs/main/noarch\n",
      "  - https://repo.anaconda.com/pkgs/r/osx-64\n",
      "  - https://repo.anaconda.com/pkgs/r/noarch\n",
      "\n",
      "To search for alternate channels that may provide the conda package you're\n",
      "looking for, navigate to\n",
      "\n",
      "    https://anaconda.org\n",
      "\n",
      "and use the search bar at the top of the page.\n",
      "\n",
      "\n"
     ]
    }
   ],
   "source": [
    "!pip install prophet\n",
    "!conda install prophet"
   ]
  },
  {
   "cell_type": "code",
   "execution_count": 5,
   "metadata": {
    "scrolled": true
   },
   "outputs": [
    {
     "ename": "ModuleNotFoundError",
     "evalue": "No module named 'prophet'",
     "output_type": "error",
     "traceback": [
      "\u001b[0;31m---------------------------------------------------------------------------\u001b[0m",
      "\u001b[0;31mModuleNotFoundError\u001b[0m                       Traceback (most recent call last)",
      "\u001b[0;32m<ipython-input-5-d087aba702ec>\u001b[0m in \u001b[0;36m<module>\u001b[0;34m\u001b[0m\n\u001b[1;32m      1\u001b[0m \u001b[0;32mimport\u001b[0m \u001b[0mpandas\u001b[0m \u001b[0;32mas\u001b[0m \u001b[0mpd\u001b[0m\u001b[0;34m\u001b[0m\u001b[0;34m\u001b[0m\u001b[0m\n\u001b[0;32m----> 2\u001b[0;31m \u001b[0;32mfrom\u001b[0m \u001b[0mprophet\u001b[0m \u001b[0;32mimport\u001b[0m \u001b[0mProphet\u001b[0m\u001b[0;34m\u001b[0m\u001b[0;34m\u001b[0m\u001b[0m\n\u001b[0m",
      "\u001b[0;31mModuleNotFoundError\u001b[0m: No module named 'prophet'"
     ]
    }
   ],
   "source": [
    "import pandas as pd\n",
    "from prophet import Prophet"
   ]
  },
  {
   "cell_type": "code",
   "execution_count": null,
   "metadata": {
    "scrolled": false
   },
   "outputs": [],
   "source": [
    "df = pd.read_csv('Data/Costco_Monthly Sales from 2012 to 2021.csv')\n",
    "df = df.rename(columns={\"Date\":\"ds\",\"Growth Rate\":\"y\"}).dropna()\n",
    "df.head()"
   ]
  },
  {
   "cell_type": "code",
   "execution_count": null,
   "metadata": {},
   "outputs": [],
   "source": [
    "date = []\n",
    "for idx, row in df.iterrows():\n",
    "    m = str(row[\"Month\"])\n",
    "    m = \"0\"+m if len(m)<2 else m\n",
    "    new_val = str(row[\"Year\"]) + \"-\" + m + \"-01\"\n",
    "    date.append(new_val)\n",
    "df[\"ds\"] = date\n",
    "df[\"y\"] = df[\"y\"].apply(lambda x: float(x[:-1]))\n",
    "df = df.drop(columns=[\"Month\", \"Year\", \"Net Sales (billions)\"])\n",
    "df.head()"
   ]
  },
  {
   "cell_type": "code",
   "execution_count": null,
   "metadata": {},
   "outputs": [],
   "source": [
    "m = Prophet()\n",
    "m.add_country_holidays(country_name='US')\n",
    "m.fit(df)"
   ]
  },
  {
   "cell_type": "code",
   "execution_count": null,
   "metadata": {},
   "outputs": [],
   "source": [
    "future = m.make_future_dataframe(periods=365)\n",
    "future.tail()"
   ]
  },
  {
   "cell_type": "code",
   "execution_count": null,
   "metadata": {},
   "outputs": [],
   "source": [
    "forecast = m.predict(future)\n",
    "forecast[['ds', 'yhat', 'yhat_lower', 'yhat_upper']].tail()"
   ]
  },
  {
   "cell_type": "code",
   "execution_count": null,
   "metadata": {},
   "outputs": [],
   "source": [
    "fig1 = m.plot(forecast)"
   ]
  },
  {
   "cell_type": "code",
   "execution_count": null,
   "metadata": {},
   "outputs": [],
   "source": [
    "fig2 = m.plot_components(forecast)"
   ]
  },
  {
   "cell_type": "code",
   "execution_count": 2,
   "metadata": {},
   "outputs": [
    {
     "ename": "ModuleNotFoundError",
     "evalue": "No module named 'prophet'",
     "output_type": "error",
     "traceback": [
      "\u001b[0;31m---------------------------------------------------------------------------\u001b[0m",
      "\u001b[0;31mModuleNotFoundError\u001b[0m                       Traceback (most recent call last)",
      "\u001b[0;32m<ipython-input-2-8de1fa9d8c2e>\u001b[0m in \u001b[0;36m<module>\u001b[0;34m\u001b[0m\n\u001b[0;32m----> 1\u001b[0;31m \u001b[0;32mfrom\u001b[0m \u001b[0mprophet\u001b[0m\u001b[0;34m.\u001b[0m\u001b[0mplot\u001b[0m \u001b[0;32mimport\u001b[0m \u001b[0mplot_plotly\u001b[0m\u001b[0;34m,\u001b[0m \u001b[0mplot_components_plotly\u001b[0m\u001b[0;34m\u001b[0m\u001b[0;34m\u001b[0m\u001b[0m\n\u001b[0m\u001b[1;32m      2\u001b[0m \u001b[0;34m\u001b[0m\u001b[0m\n\u001b[1;32m      3\u001b[0m \u001b[0mplot_plotly\u001b[0m\u001b[0;34m(\u001b[0m\u001b[0mm\u001b[0m\u001b[0;34m,\u001b[0m \u001b[0mforecast\u001b[0m\u001b[0;34m)\u001b[0m\u001b[0;34m\u001b[0m\u001b[0;34m\u001b[0m\u001b[0m\n",
      "\u001b[0;31mModuleNotFoundError\u001b[0m: No module named 'prophet'"
     ]
    }
   ],
   "source": [
    "from prophet.plot import plot_plotly, plot_components_plotly\n",
    "\n",
    "plot_plotly(m, forecast)"
   ]
  },
  {
   "cell_type": "code",
   "execution_count": 3,
   "metadata": {},
   "outputs": [
    {
     "ename": "NameError",
     "evalue": "name 'plot_components_plotly' is not defined",
     "output_type": "error",
     "traceback": [
      "\u001b[0;31m---------------------------------------------------------------------------\u001b[0m",
      "\u001b[0;31mNameError\u001b[0m                                 Traceback (most recent call last)",
      "\u001b[0;32m<ipython-input-3-371010a93432>\u001b[0m in \u001b[0;36m<module>\u001b[0;34m\u001b[0m\n\u001b[0;32m----> 1\u001b[0;31m \u001b[0mplot_components_plotly\u001b[0m\u001b[0;34m(\u001b[0m\u001b[0mm\u001b[0m\u001b[0;34m,\u001b[0m \u001b[0mforecast\u001b[0m\u001b[0;34m)\u001b[0m\u001b[0;34m\u001b[0m\u001b[0;34m\u001b[0m\u001b[0m\n\u001b[0m",
      "\u001b[0;31mNameError\u001b[0m: name 'plot_components_plotly' is not defined"
     ]
    }
   ],
   "source": [
    "plot_components_plotly(m, forecast)"
   ]
  },
  {
   "cell_type": "code",
   "execution_count": null,
   "metadata": {},
   "outputs": [],
   "source": []
  }
 ],
 "metadata": {
  "kernelspec": {
   "display_name": "Python 3",
   "language": "python",
   "name": "python3"
  },
  "language_info": {
   "codemirror_mode": {
    "name": "ipython",
    "version": 3
   },
   "file_extension": ".py",
   "mimetype": "text/x-python",
   "name": "python",
   "nbconvert_exporter": "python",
   "pygments_lexer": "ipython3",
   "version": "3.7.4"
  }
 },
 "nbformat": 4,
 "nbformat_minor": 5
}
