{
 "cells": [
  {
   "cell_type": "markdown",
   "id": "7e8420b1",
   "metadata": {},
   "source": [
    "## Package Imports"
   ]
  },
  {
   "cell_type": "code",
   "execution_count": 1,
   "id": "305808da",
   "metadata": {
    "scrolled": true
   },
   "outputs": [],
   "source": [
    "import pandas as pd\n",
    "from prophet import Prophet\n",
    "from sklearn.metrics import mean_squared_error\n",
    "import glob\n",
    "\n",
    "import ipywidgets as widgets\n",
    "from ipywidgets import Layout\n",
    "from IPython.display import display, clear_output\n",
    "from functools import reduce\n",
    "import math\n",
    "import warnings\n",
    "\n",
    "warnings.simplefilter(\"ignore\")"
   ]
  },
  {
   "cell_type": "markdown",
   "id": "0034a6d5",
   "metadata": {},
   "source": [
    "## Read in Data"
   ]
  },
  {
   "cell_type": "code",
   "execution_count": 2,
   "id": "109c64de",
   "metadata": {},
   "outputs": [],
   "source": [
    "# Transform csv for modeling\n",
    "def load_indicators(indicator_filenames):\n",
    "    \"\"\"\n",
    "    indicator_filenames (str) : indicator filenames separated by a spaces\n",
    "    \n",
    "    Returns\n",
    "    --\n",
    "    merged_indicators (pd.DataFrame) : indicator\n",
    "    \"\"\"\n",
    "    \n",
    "    # Case where we use a single indicator\n",
    "    if len(indicator_filenames) == 1:\n",
    "        print(\"Loading one indicator\")\n",
    "        if \".csv\" not in indicator_filenames:\n",
    "            indicator_filenames += \".csv\"\n",
    "            \n",
    "        indicator = pd.read_csv(\"Data_Copy/Economic indicators/\" + indicator_filenames)\n",
    "        indicator[\"Date\"] = pd.to_datetime(indicator['DateTime']).dt.date\n",
    "        return indicator[[\"Date\", \"Value\"]]\n",
    "    \n",
    "    # Case where we use multiple indicators\n",
    "    print(\"Loading multiple indicators\")\n",
    "    # Add .csv if not at the end\n",
    "    for i, ind_file in enumerate(indicator_filenames):\n",
    "        if \".csv\" not in ind_file:\n",
    "            indicator_filenames[i] += \".csv\"\n",
    "            \n",
    "    # read in indicator files\n",
    "    indicators1 = [pd.read_csv(\"Data_Copy/Economic indicators/\" + ind_file)\n",
    "                  for ind_file in indicator_filenames]\n",
    "    \n",
    "    # Turn DateTime string into Date objects\n",
    "    indicators2 = []\n",
    "    for indicator in indicators1:\n",
    "        indicator[\"Date\"] = pd.to_datetime(indicator[\"DateTime\"]).dt.date\n",
    "        indicators2.append(indicator[[\"Date\", \"Value\"]])\n",
    "        \n",
    "    start_dates = [ind[\"Date\"].min() for ind in indicators2]\n",
    "    start_date = max(start_dates)\n",
    "        \n",
    "    # remove dates before last start date\n",
    "    indicators3 = []\n",
    "    ind3idx = []\n",
    "    # Keep dates that are in every indicator file being used\n",
    "    for i, ind in enumerate(indicators2):\n",
    "        ind3 = ind[ind[\"Date\"] >= start_date]\n",
    "        indicators3.append(ind3)\n",
    "\n",
    "    # Source: https://stackoverflow.com/questions/44327999/python-pandas-merge-multiple-dataframes\n",
    "    merged_indicators = \\\n",
    "        reduce(lambda left,right: pd.merge(left, right,\n",
    "                                           on=['Date'], how='outer'),\n",
    "                       indicators3).sort_values(by=\"Date\").reset_index(drop=True)\n",
    "    columns = merged_indicators.columns\n",
    "    nearest_val_dict = {\"nearest_\" + col : None for col in columns}\n",
    "    for idx, row in merged_indicators.iterrows():\n",
    "        for col in columns:\n",
    "            if \"Date\" not in col:\n",
    "                if math.isnan(row[col]):\n",
    "                    if nearest_val_dict[\"nearest_\" + col] is None:\n",
    "                        for val in merged_indicators[col]:\n",
    "                            if not math.isnan(val):\n",
    "                                nearest_val_dict[\"nearest_\" + col] = val\n",
    "                                break\n",
    "                    merged_indicators[col].iloc[idx] =  nearest_val_dict[\"nearest_\" + col]\n",
    "                else:\n",
    "                    nearest_val_dict[\"nearest_\" + col] = row[col]\n",
    "    v = 0\n",
    "    rename_cols = {}\n",
    "    for col in columns:\n",
    "        if \"Date\" in col:\n",
    "            continue\n",
    "        v += 1\n",
    "        rename_cols[col] = \"Value\" + str(v)\n",
    "        \"\"\n",
    "    return merged_indicators.rename(columns=rename_cols)"
   ]
  },
  {
   "cell_type": "code",
   "execution_count": 3,
   "id": "354d38c7",
   "metadata": {},
   "outputs": [],
   "source": [
    "def merge_indicators_sales(data, indicators):\n",
    "    startDate = max([data[\"Date\"].min(), indicators[\"Date\"].min()])\n",
    "    data = data[data[\"Date\"]>startDate].set_index(\"Date\")\n",
    "    indicators = indicators[indicators[\"Date\"]>startDate].set_index(\"Date\")\n",
    "    merged = pd.concat([indicators, data], axis=1)\n",
    "    # Fill NAs\n",
    "    columns = merged.columns\n",
    "    nearest_val_dict = {\"nearest_\" + col : None for col in columns}\n",
    "    for idx, row in merged.iterrows():\n",
    "        for col in columns:\n",
    "            if \"Date\" not in col:\n",
    "                if math.isnan(row[col]):\n",
    "                    if nearest_val_dict[\"nearest_\" + col] is None:\n",
    "                        for val in merged[col]:\n",
    "                            if not math.isnan(val):\n",
    "                                nearest_val_dict[\"nearest_\" + col] = val\n",
    "                                break\n",
    "                    merged[col].loc[idx] =  nearest_val_dict[\"nearest_\" + col]\n",
    "                else:\n",
    "                    nearest_val_dict[\"nearest_\" + col] = row[col]\n",
    "    # split data into day, month, year\n",
    "    return merged.reset_index()    "
   ]
  },
  {
   "cell_type": "code",
   "execution_count": 12,
   "id": "38876b8e",
   "metadata": {},
   "outputs": [],
   "source": [
    "ind_files = glob.glob(\"Data_Copy/Economic Indicators/*.csv\")\n",
    "ind_files = [i[73:] for i in ind_files]"
   ]
  },
  {
   "cell_type": "code",
   "execution_count": 20,
   "id": "06bb11ce",
   "metadata": {
    "scrolled": true
   },
   "outputs": [
    {
     "name": "stdout",
     "output_type": "stream",
     "text": [
      "Choose one or multiple indicators.\n"
     ]
    },
    {
     "data": {
      "application/vnd.jupyter.widget-view+json": {
       "model_id": "4ed7115a2aa54997b065e832683d95ba",
       "version_major": 2,
       "version_minor": 0
      },
      "text/plain": [
       "SelectMultiple(description='Options:', layout=Layout(height='300px', width='30%'), options=('API_Product_Impor…"
      ]
     },
     "metadata": {},
     "output_type": "display_data"
    }
   ],
   "source": [
    "ind_files = glob.glob(\"Data_Copy/Economic Indicators/*.csv\")\n",
    "ind_names = [i[73:] for i in ind_files]\n",
    "print(\"Choose one or multiple indicators.\")\n",
    "w = widgets.SelectMultiple(\n",
    "    options=ind_names,\n",
    "    description='Options:',\n",
    "    disable=False,\n",
    "    layout=Layout(width='30%', height='300px')\n",
    ")\n",
    "display(w)"
   ]
  },
  {
   "cell_type": "code",
   "execution_count": 22,
   "id": "5949f22b",
   "metadata": {
    "scrolled": true
   },
   "outputs": [
    {
     "name": "stdout",
     "output_type": "stream",
     "text": [
      "Loading multiple indicators\n"
     ]
    },
    {
     "data": {
      "text/html": [
       "<div>\n",
       "<style scoped>\n",
       "    .dataframe tbody tr th:only-of-type {\n",
       "        vertical-align: middle;\n",
       "    }\n",
       "\n",
       "    .dataframe tbody tr th {\n",
       "        vertical-align: top;\n",
       "    }\n",
       "\n",
       "    .dataframe thead th {\n",
       "        text-align: right;\n",
       "    }\n",
       "</style>\n",
       "<table border=\"1\" class=\"dataframe\">\n",
       "  <thead>\n",
       "    <tr style=\"text-align: right;\">\n",
       "      <th></th>\n",
       "      <th>Date</th>\n",
       "      <th>Value1</th>\n",
       "      <th>Value2</th>\n",
       "      <th>Value3</th>\n",
       "    </tr>\n",
       "  </thead>\n",
       "  <tbody>\n",
       "    <tr>\n",
       "      <th>0</th>\n",
       "      <td>2001-11-16</td>\n",
       "      <td>-760.0</td>\n",
       "      <td>58081.0</td>\n",
       "      <td>2.8</td>\n",
       "    </tr>\n",
       "    <tr>\n",
       "      <th>1</th>\n",
       "      <td>2001-11-23</td>\n",
       "      <td>-692.0</td>\n",
       "      <td>58081.0</td>\n",
       "      <td>2.8</td>\n",
       "    </tr>\n",
       "    <tr>\n",
       "      <th>2</th>\n",
       "      <td>2001-11-30</td>\n",
       "      <td>1669.0</td>\n",
       "      <td>58081.0</td>\n",
       "      <td>2.8</td>\n",
       "    </tr>\n",
       "    <tr>\n",
       "      <th>3</th>\n",
       "      <td>2001-12-07</td>\n",
       "      <td>-890.0</td>\n",
       "      <td>58081.0</td>\n",
       "      <td>2.8</td>\n",
       "    </tr>\n",
       "    <tr>\n",
       "      <th>4</th>\n",
       "      <td>2001-12-14</td>\n",
       "      <td>-194.0</td>\n",
       "      <td>58081.0</td>\n",
       "      <td>2.8</td>\n",
       "    </tr>\n",
       "    <tr>\n",
       "      <th>...</th>\n",
       "      <td>...</td>\n",
       "      <td>...</td>\n",
       "      <td>...</td>\n",
       "      <td>...</td>\n",
       "    </tr>\n",
       "    <tr>\n",
       "      <th>1227</th>\n",
       "      <td>2021-07-16</td>\n",
       "      <td>2438.0</td>\n",
       "      <td>110850.0</td>\n",
       "      <td>4.5</td>\n",
       "    </tr>\n",
       "    <tr>\n",
       "      <th>1228</th>\n",
       "      <td>2021-07-23</td>\n",
       "      <td>-616.0</td>\n",
       "      <td>110850.0</td>\n",
       "      <td>4.5</td>\n",
       "    </tr>\n",
       "    <tr>\n",
       "      <th>1229</th>\n",
       "      <td>2021-07-30</td>\n",
       "      <td>510.0</td>\n",
       "      <td>110850.0</td>\n",
       "      <td>4.5</td>\n",
       "    </tr>\n",
       "    <tr>\n",
       "      <th>1230</th>\n",
       "      <td>2021-07-31</td>\n",
       "      <td>510.0</td>\n",
       "      <td>110850.0</td>\n",
       "      <td>4.3</td>\n",
       "    </tr>\n",
       "    <tr>\n",
       "      <th>1231</th>\n",
       "      <td>2021-08-06</td>\n",
       "      <td>-796.0</td>\n",
       "      <td>110850.0</td>\n",
       "      <td>4.3</td>\n",
       "    </tr>\n",
       "  </tbody>\n",
       "</table>\n",
       "<p>1232 rows × 4 columns</p>\n",
       "</div>"
      ],
      "text/plain": [
       "            Date  Value1    Value2  Value3\n",
       "0     2001-11-16  -760.0   58081.0     2.8\n",
       "1     2001-11-23  -692.0   58081.0     2.8\n",
       "2     2001-11-30  1669.0   58081.0     2.8\n",
       "3     2001-12-07  -890.0   58081.0     2.8\n",
       "4     2001-12-14  -194.0   58081.0     2.8\n",
       "...          ...     ...       ...     ...\n",
       "1227  2021-07-16  2438.0  110850.0     4.5\n",
       "1228  2021-07-23  -616.0  110850.0     4.5\n",
       "1229  2021-07-30   510.0  110850.0     4.5\n",
       "1230  2021-07-31   510.0  110850.0     4.3\n",
       "1231  2021-08-06  -796.0  110850.0     4.3\n",
       "\n",
       "[1232 rows x 4 columns]"
      ]
     },
     "execution_count": 22,
     "metadata": {},
     "output_type": "execute_result"
    }
   ],
   "source": [
    "ind_files_used = w.value\n",
    "start = \"historical_country_United_States_indicator_\"\n",
    "indicators = load_indicators([start+str(x) for x in ind_files_used])\n",
    "indicators"
   ]
  },
  {
   "cell_type": "code",
   "execution_count": 23,
   "id": "0f6099d8",
   "metadata": {
    "scrolled": false
   },
   "outputs": [
    {
     "data": {
      "text/html": [
       "<div>\n",
       "<style scoped>\n",
       "    .dataframe tbody tr th:only-of-type {\n",
       "        vertical-align: middle;\n",
       "    }\n",
       "\n",
       "    .dataframe tbody tr th {\n",
       "        vertical-align: top;\n",
       "    }\n",
       "\n",
       "    .dataframe thead th {\n",
       "        text-align: right;\n",
       "    }\n",
       "</style>\n",
       "<table border=\"1\" class=\"dataframe\">\n",
       "  <thead>\n",
       "    <tr style=\"text-align: right;\">\n",
       "      <th></th>\n",
       "      <th>y</th>\n",
       "      <th>Date</th>\n",
       "    </tr>\n",
       "  </thead>\n",
       "  <tbody>\n",
       "    <tr>\n",
       "      <th>0</th>\n",
       "      <td>7.00</td>\n",
       "      <td>2012-01-01</td>\n",
       "    </tr>\n",
       "    <tr>\n",
       "      <th>2</th>\n",
       "      <td>9.13</td>\n",
       "      <td>2012-03-01</td>\n",
       "    </tr>\n",
       "    <tr>\n",
       "      <th>3</th>\n",
       "      <td>7.25</td>\n",
       "      <td>2012-04-01</td>\n",
       "    </tr>\n",
       "    <tr>\n",
       "      <th>4</th>\n",
       "      <td>7.67</td>\n",
       "      <td>2012-05-01</td>\n",
       "    </tr>\n",
       "    <tr>\n",
       "      <th>5</th>\n",
       "      <td>9.18</td>\n",
       "      <td>2012-06-01</td>\n",
       "    </tr>\n",
       "    <tr>\n",
       "      <th>...</th>\n",
       "      <td>...</td>\n",
       "      <td>...</td>\n",
       "    </tr>\n",
       "    <tr>\n",
       "      <th>109</th>\n",
       "      <td>14.05</td>\n",
       "      <td>2021-02-01</td>\n",
       "    </tr>\n",
       "    <tr>\n",
       "      <th>110</th>\n",
       "      <td>18.21</td>\n",
       "      <td>2021-03-01</td>\n",
       "    </tr>\n",
       "    <tr>\n",
       "      <th>111</th>\n",
       "      <td>15.21</td>\n",
       "      <td>2021-04-01</td>\n",
       "    </tr>\n",
       "    <tr>\n",
       "      <th>112</th>\n",
       "      <td>15.59</td>\n",
       "      <td>2021-05-01</td>\n",
       "    </tr>\n",
       "    <tr>\n",
       "      <th>113</th>\n",
       "      <td>18.92</td>\n",
       "      <td>2021-06-01</td>\n",
       "    </tr>\n",
       "  </tbody>\n",
       "</table>\n",
       "<p>113 rows × 2 columns</p>\n",
       "</div>"
      ],
      "text/plain": [
       "         y        Date\n",
       "0     7.00  2012-01-01\n",
       "2     9.13  2012-03-01\n",
       "3     7.25  2012-04-01\n",
       "4     7.67  2012-05-01\n",
       "5     9.18  2012-06-01\n",
       "..     ...         ...\n",
       "109  14.05  2021-02-01\n",
       "110  18.21  2021-03-01\n",
       "111  15.21  2021-04-01\n",
       "112  15.59  2021-05-01\n",
       "113  18.92  2021-06-01\n",
       "\n",
       "[113 rows x 2 columns]"
      ]
     },
     "execution_count": 23,
     "metadata": {},
     "output_type": "execute_result"
    }
   ],
   "source": [
    "data = pd.read_csv('Data_Copy/Costco_Monthly Sales from 2012 to 2021.csv')\n",
    "data = data.rename(columns={\"Date\":\"ds\",\"Net Sales (billions)\":\"y\"}).dropna()\n",
    "\n",
    "date = []\n",
    "for idx, row in data.iterrows():\n",
    "    m = str(row[\"Month\"])\n",
    "    m = \"0\"+m if len(m)<2 else m\n",
    "    new_val = str(row[\"Year\"]) + \"-\" + m + \"-01\"\n",
    "    date.append(new_val)\n",
    "    \n",
    "data[\"Date\"] = date\n",
    "data[\"Date\"] = pd.to_datetime(data[\"Date\"]).dt.date\n",
    "data = data.drop(columns=[\"ds\", \"Month\", \"Year\", \"Growth Rate\"])\n",
    "data"
   ]
  },
  {
   "cell_type": "markdown",
   "id": "ec625a7b",
   "metadata": {},
   "source": [
    "## Merge Sales and Indicators"
   ]
  },
  {
   "cell_type": "code",
   "execution_count": 24,
   "id": "cd81bd55",
   "metadata": {
    "scrolled": false
   },
   "outputs": [
    {
     "data": {
      "text/html": [
       "<div>\n",
       "<style scoped>\n",
       "    .dataframe tbody tr th:only-of-type {\n",
       "        vertical-align: middle;\n",
       "    }\n",
       "\n",
       "    .dataframe tbody tr th {\n",
       "        vertical-align: top;\n",
       "    }\n",
       "\n",
       "    .dataframe thead th {\n",
       "        text-align: right;\n",
       "    }\n",
       "</style>\n",
       "<table border=\"1\" class=\"dataframe\">\n",
       "  <thead>\n",
       "    <tr style=\"text-align: right;\">\n",
       "      <th></th>\n",
       "      <th>ds</th>\n",
       "      <th>Value1</th>\n",
       "      <th>Value2</th>\n",
       "      <th>Value3</th>\n",
       "      <th>y</th>\n",
       "    </tr>\n",
       "  </thead>\n",
       "  <tbody>\n",
       "    <tr>\n",
       "      <th>0</th>\n",
       "      <td>2012-01-06</td>\n",
       "      <td>883.0</td>\n",
       "      <td>20908.0</td>\n",
       "      <td>2.2</td>\n",
       "      <td>9.18</td>\n",
       "    </tr>\n",
       "    <tr>\n",
       "      <th>1</th>\n",
       "      <td>2012-01-13</td>\n",
       "      <td>-1643.0</td>\n",
       "      <td>20908.0</td>\n",
       "      <td>2.2</td>\n",
       "      <td>9.18</td>\n",
       "    </tr>\n",
       "    <tr>\n",
       "      <th>2</th>\n",
       "      <td>2012-01-20</td>\n",
       "      <td>588.0</td>\n",
       "      <td>20908.0</td>\n",
       "      <td>2.2</td>\n",
       "      <td>9.18</td>\n",
       "    </tr>\n",
       "    <tr>\n",
       "      <th>3</th>\n",
       "      <td>2012-01-27</td>\n",
       "      <td>27.0</td>\n",
       "      <td>20908.0</td>\n",
       "      <td>2.2</td>\n",
       "      <td>9.18</td>\n",
       "    </tr>\n",
       "    <tr>\n",
       "      <th>4</th>\n",
       "      <td>2012-01-31</td>\n",
       "      <td>27.0</td>\n",
       "      <td>112127.0</td>\n",
       "      <td>2.3</td>\n",
       "      <td>9.18</td>\n",
       "    </tr>\n",
       "    <tr>\n",
       "      <th>...</th>\n",
       "      <td>...</td>\n",
       "      <td>...</td>\n",
       "      <td>...</td>\n",
       "      <td>...</td>\n",
       "      <td>...</td>\n",
       "    </tr>\n",
       "    <tr>\n",
       "      <th>689</th>\n",
       "      <td>2021-02-01</td>\n",
       "      <td>-796.0</td>\n",
       "      <td>110850.0</td>\n",
       "      <td>4.3</td>\n",
       "      <td>14.05</td>\n",
       "    </tr>\n",
       "    <tr>\n",
       "      <th>690</th>\n",
       "      <td>2021-03-01</td>\n",
       "      <td>-796.0</td>\n",
       "      <td>110850.0</td>\n",
       "      <td>4.3</td>\n",
       "      <td>18.21</td>\n",
       "    </tr>\n",
       "    <tr>\n",
       "      <th>691</th>\n",
       "      <td>2021-04-01</td>\n",
       "      <td>-796.0</td>\n",
       "      <td>110850.0</td>\n",
       "      <td>4.3</td>\n",
       "      <td>15.21</td>\n",
       "    </tr>\n",
       "    <tr>\n",
       "      <th>692</th>\n",
       "      <td>2021-05-01</td>\n",
       "      <td>-796.0</td>\n",
       "      <td>110850.0</td>\n",
       "      <td>4.3</td>\n",
       "      <td>15.59</td>\n",
       "    </tr>\n",
       "    <tr>\n",
       "      <th>693</th>\n",
       "      <td>2021-06-01</td>\n",
       "      <td>-796.0</td>\n",
       "      <td>110850.0</td>\n",
       "      <td>4.3</td>\n",
       "      <td>18.92</td>\n",
       "    </tr>\n",
       "  </tbody>\n",
       "</table>\n",
       "<p>694 rows × 5 columns</p>\n",
       "</div>"
      ],
      "text/plain": [
       "             ds  Value1    Value2  Value3      y\n",
       "0    2012-01-06   883.0   20908.0     2.2   9.18\n",
       "1    2012-01-13 -1643.0   20908.0     2.2   9.18\n",
       "2    2012-01-20   588.0   20908.0     2.2   9.18\n",
       "3    2012-01-27    27.0   20908.0     2.2   9.18\n",
       "4    2012-01-31    27.0  112127.0     2.3   9.18\n",
       "..          ...     ...       ...     ...    ...\n",
       "689  2021-02-01  -796.0  110850.0     4.3  14.05\n",
       "690  2021-03-01  -796.0  110850.0     4.3  18.21\n",
       "691  2021-04-01  -796.0  110850.0     4.3  15.21\n",
       "692  2021-05-01  -796.0  110850.0     4.3  15.59\n",
       "693  2021-06-01  -796.0  110850.0     4.3  18.92\n",
       "\n",
       "[694 rows x 5 columns]"
      ]
     },
     "execution_count": 24,
     "metadata": {},
     "output_type": "execute_result"
    }
   ],
   "source": [
    "df = merge_indicators_sales(data, indicators)\n",
    "df = df.rename(columns={\"Date\":\"ds\"})\n",
    "df"
   ]
  },
  {
   "cell_type": "markdown",
   "id": "fd051687",
   "metadata": {},
   "source": [
    "## Split data into training and testing"
   ]
  },
  {
   "cell_type": "code",
   "execution_count": 25,
   "id": "7ee9cc01",
   "metadata": {},
   "outputs": [
    {
     "data": {
      "text/plain": [
       "((434, 5), (72, 5))"
      ]
     },
     "execution_count": 25,
     "metadata": {},
     "output_type": "execute_result"
    }
   ],
   "source": [
    "df_train = df[df[\"ds\"]<pd.to_datetime(\"2018-01-01\")]\n",
    "df_test = df[df[\"ds\"]>pd.to_datetime(\"2018-01-01\")]\n",
    "df_test = df_test[df_test[\"ds\"]<pd.to_datetime(\"2019-01-01\")]\n",
    "df_train.values.shape, df_test.values.shape"
   ]
  },
  {
   "cell_type": "code",
   "execution_count": 26,
   "id": "8441ba3d",
   "metadata": {},
   "outputs": [
    {
     "data": {
      "text/plain": [
       "((71, 2), (11, 2))"
      ]
     },
     "execution_count": 26,
     "metadata": {},
     "output_type": "execute_result"
    }
   ],
   "source": [
    "data = data.rename(columns={\"Date\":\"ds\"})\n",
    "data_train = data[data[\"ds\"] < pd.to_datetime(\"2018-01-01\")]\n",
    "data_test = data[data[\"ds\"]>pd.to_datetime(\"2018-01-01\")]\n",
    "data_test = data_test[data_test[\"ds\"]<pd.to_datetime(\"2019-01-01\")]\n",
    "data_train.values.shape, data_test.values.shape"
   ]
  },
  {
   "cell_type": "markdown",
   "id": "5b34ca9e",
   "metadata": {},
   "source": [
    "## Modeling"
   ]
  },
  {
   "cell_type": "code",
   "execution_count": 27,
   "id": "73aebd7d",
   "metadata": {},
   "outputs": [
    {
     "name": "stderr",
     "output_type": "stream",
     "text": [
      "INFO:prophet:Disabling daily seasonality. Run prophet with daily_seasonality=True to override this.\n",
      "INFO:prophet:Disabling daily seasonality. Run prophet with daily_seasonality=True to override this.\n"
     ]
    },
    {
     "name": "stdout",
     "output_type": "stream",
     "text": [
      "Initial log joint probability = -12.9352\n",
      "    Iter      log prob        ||dx||      ||grad||       alpha      alpha0  # evals  Notes \n",
      "      99       1019.09    0.00365635       119.528      0.4993      0.4993      112   \n",
      "    Iter      log prob        ||dx||      ||grad||       alpha      alpha0  # evals  Notes \n",
      "     170       1026.57    0.00059307       193.904   2.561e-06       0.001      240  LS failed, Hessian reset \n",
      "     199       1027.84   0.000521179       78.6988      0.7233      0.7233      273   \n",
      "    Iter      log prob        ||dx||      ||grad||       alpha      alpha0  # evals  Notes \n",
      "     299       1029.52    0.00369532       98.5454      0.1572           1      389   \n",
      "    Iter      log prob        ||dx||      ||grad||       alpha      alpha0  # evals  Notes \n",
      "     349       1030.95   0.000437765       138.109   1.893e-06       0.001      503  LS failed, Hessian reset \n",
      "     399       1032.58    0.00172706       88.6725      0.2913           1      562   \n",
      "    Iter      log prob        ||dx||      ||grad||       alpha      alpha0  # evals  Notes \n",
      "     499       1032.87   6.07198e-05       94.6268       1.034      0.1034      686   \n",
      "    Iter      log prob        ||dx||      ||grad||       alpha      alpha0  # evals  Notes \n",
      "     566       1032.87   6.63972e-08       79.2744      0.6669      0.6669      783   \n",
      "Optimization terminated normally: \n",
      "  Convergence detected: relative gradient magnitude is below tolerance\n"
     ]
    },
    {
     "name": "stderr",
     "output_type": "stream",
     "text": [
      "INFO:prophet:Disabling weekly seasonality. Run prophet with weekly_seasonality=True to override this.\n",
      "INFO:prophet:Disabling daily seasonality. Run prophet with daily_seasonality=True to override this.\n"
     ]
    },
    {
     "name": "stdout",
     "output_type": "stream",
     "text": [
      "Initial log joint probability = -12.9352\n",
      "    Iter      log prob        ||dx||      ||grad||       alpha      alpha0  # evals  Notes \n",
      "      99       1021.05    0.00548981        127.42           1           1      122   \n",
      "    Iter      log prob        ||dx||      ||grad||       alpha      alpha0  # evals  Notes \n",
      "     199        1026.1    0.00133549       113.876           1           1      238   \n",
      "    Iter      log prob        ||dx||      ||grad||       alpha      alpha0  # evals  Notes \n",
      "     299       1027.15     0.0233627       107.081           1           1      354   \n",
      "    Iter      log prob        ||dx||      ||grad||       alpha      alpha0  # evals  Notes \n",
      "     316       1028.49     0.0042342       259.159   4.595e-05       0.001      451  LS failed, Hessian reset \n",
      "     392        1030.5    5.2069e-05       94.6616   5.546e-07       0.001      577  LS failed, Hessian reset \n",
      "     399        1030.5   7.92111e-06       88.2815      0.3955      0.3955      584   \n",
      "    Iter      log prob        ||dx||      ||grad||       alpha      alpha0  # evals  Notes \n",
      "     434       1030.51   2.86974e-08       85.6792      0.7472      0.7472      628   \n",
      "Optimization terminated normally: \n",
      "  Convergence detected: relative gradient magnitude is below tolerance\n"
     ]
    },
    {
     "data": {
      "text/plain": [
       "<prophet.forecaster.Prophet at 0x7fb51f492d60>"
      ]
     },
     "execution_count": 27,
     "metadata": {},
     "output_type": "execute_result"
    },
    {
     "name": "stdout",
     "output_type": "stream",
     "text": [
      "\n",
      "Initial log joint probability = -125.501\n",
      "Iteration  1. Log joint probability =    63.8273. Improved by 189.329.\n",
      "Iteration  2. Log joint probability =     106.73. Improved by 42.9022.\n",
      "Iteration  3. Log joint probability =    152.812. Improved by 46.0826.\n",
      "Iteration  4. Log joint probability =    196.039. Improved by 43.227.\n",
      "Iteration  5. Log joint probability =    228.786. Improved by 32.7465.\n",
      "Iteration  6. Log joint probability =    228.791. Improved by 0.00532374.\n",
      "Iteration  7. Log joint probability =    231.442. Improved by 2.65133.\n",
      "Iteration  8. Log joint probability =    231.485. Improved by 0.0424037.\n",
      "Iteration  9. Log joint probability =    231.644. Improved by 0.159241.\n",
      "Iteration 10. Log joint probability =    231.739. Improved by 0.0954077.\n",
      "Iteration 11. Log joint probability =    231.923. Improved by 0.183339.\n",
      "Iteration 12. Log joint probability =    231.955. Improved by 0.0320121.\n",
      "Iteration 13. Log joint probability =    232.062. Improved by 0.107706.\n",
      "Iteration 14. Log joint probability =    232.088. Improved by 0.0253579.\n",
      "Iteration 15. Log joint probability =    232.173. Improved by 0.0851187.\n",
      "Iteration 16. Log joint probability =    232.249. Improved by 0.0759571.\n",
      "Iteration 17. Log joint probability =    232.299. Improved by 0.0500035.\n",
      "Iteration 18. Log joint probability =    232.307. Improved by 0.00796896.\n",
      "Iteration 19. Log joint probability =    232.681. Improved by 0.374118.\n",
      "Iteration 20. Log joint probability =    232.901. Improved by 0.220323.\n",
      "Iteration 21. Log joint probability =    233.121. Improved by 0.219784.\n",
      "Iteration 22. Log joint probability =    233.385. Improved by 0.263952.\n",
      "Iteration 23. Log joint probability =    233.745. Improved by 0.359738.\n",
      "Iteration 24. Log joint probability =    234.106. Improved by 0.361386.\n",
      "Iteration 25. Log joint probability =    234.184. Improved by 0.0775742.\n",
      "Iteration 26. Log joint probability =     234.21. Improved by 0.0263986.\n",
      "Iteration 27. Log joint probability =     234.31. Improved by 0.100196.\n",
      "Iteration"
     ]
    }
   ],
   "source": [
    "m1 = Prophet() # multiple indicators\n",
    "m2 = Prophet() # no indicators\n",
    "m3 = Prophet() # original dataset\n",
    "m1.add_country_holidays(country_name='US')\n",
    "m2.add_country_holidays(country_name='US')\n",
    "m3.add_country_holidays(country_name='US')\n",
    "for col in df_train.columns:\n",
    "    if \"Value\" in col:\n",
    "        m1.add_regressor(col)\n",
    "        \n",
    "m1.fit(df_train)\n",
    "m2.fit(df_train)\n",
    "m3.fit(data_train)"
   ]
  },
  {
   "cell_type": "code",
   "execution_count": 28,
   "id": "d2bda80c",
   "metadata": {
    "scrolled": true
   },
   "outputs": [
    {
     "name": "stdout",
     "output_type": "stream",
     "text": [
      " 28. Log joint probability =    234.329. Improved by 0.018909.\n",
      "Iteration 29. Log joint probability =    234.698. Improved by 0.369301.\n",
      "Iteration 30. Log joint probability =    234.703. Improved by 0.00412386.\n",
      "Iteration 31. Log joint probability =    234.782. Improved by 0.0797545.\n",
      "Iteration 32. Log joint probability =    235.122. Improved by 0.340098.\n",
      "Iteration 33. Log joint probability =    235.203. Improved by 0.0803603.\n",
      "Iteration 34. Log joint probability =    237.518. Improved by 2.31509.\n",
      "Iteration 35. Log joint probability =    238.233. Improved by 0.714808.\n",
      "Iteration 36. Log joint probability =    238.609. Improved by 0.376032.\n",
      "Iteration 37. Log joint probability =     239.27. Improved by 0.661048.\n",
      "Iteration 38. Log joint probability =    239.404. Improved by 0.134447.\n",
      "Iteration 39. Log joint probability =    240.065. Improved by 0.660805.\n",
      "Iteration 40. Log joint probability =    240.203. Improved by 0.137681.\n",
      "Iteration 41. Log joint probability =    242.462. Improved by 2.25914.\n",
      "Iteration 42. Log joint probability =    242.622. Improved by 0.160611.\n",
      "Iteration 43. Log joint probability =    242.629. Improved by 0.00610155.\n",
      "Iteration 44. Log joint probability =    242.752. Improved by 0.123249.\n",
      "Iteration 45. Log joint probability =     242.77. Improved by 0.0178042.\n",
      "Iteration 46. Log joint probability =    242.866. Improved by 0.0959718.\n",
      "Iteration 47. Log joint probability =    242.892. Improved by 0.0261.\n",
      "Iteration 48. Log joint probability =    242.936. Improved by 0.0444174.\n",
      "Iteration 49. Log joint probability =     243.02. Improved by 0.0836398.\n",
      "Iteration 50. Log joint probability =    243.043. Improved by 0.0232292.\n",
      "Iteration 51. Log joint probability =    243.054. Improved by 0.0108506.\n",
      "Iteration 52. Log joint probability =    243.067. Improved by 0.0129542.\n",
      "Iteration 53. Log joint probability =     243.07. Improved by 0.00369242.\n",
      "Iteration 54. Log joint probability =    243.075. Improved by 0.00411138.\n",
      "Iteration 55. Log joint probability =    243.077. Improved by 0.00244896.\n",
      "Iteration 56. Log joint probability =    243.087. Improved by 0.00988585.\n",
      "Iteration 57. Log joint probability =     243.09. Improved by 0.00332853.\n",
      "Iteration 58. Log joint probability =    243.092. Improved by 0.00177449.\n",
      "Iteration 59. Log joint probability =    243.094. Improved by 0.00180308.\n",
      "Iteration 60. Log joint probability =    243.094. Improved by 0.000449728.\n",
      "Iteration 61. Log joint probability =    243.095. Improved by 0.000593299.\n",
      "Iteration 62. Log joint probability =    243.095. Improved by 0.000527694.\n",
      "Iteration 63. Log joint probability =    243.096. Improved by 0.000395789.\n",
      "Iteration 64. Log joint probability =    243.097. Improved by 0.00104861.\n",
      "Iteration 65. Log joint probability =    243.097. Improved by 0.000517942.\n",
      "Iteration 66. Log joint probability =    243.097. Improved by 6.70726e-05.\n",
      "Iteration 67. Log joint probability =    243.098. Improved by 0.000303447.\n",
      "Iteration 68. Log joint probability =    243.098. Improved by 0.000108292.\n",
      "Iteration 69. Log joint probability =    243.098. Improved by 4.84477e-05.\n",
      "Iteration 70. Log joint probability =    243.098. Improved by 8.08975e-05.\n",
      "Iteration 71. Log joint probability =    243.098. Improved by 0.000300115.\n",
      "Iteration 72. Log joint probability =    243.098. Improved by 0.000143152.\n",
      "Iteration 73. Log joint probability =    243.098. Improved by 2.51841e-05.\n",
      "Iteration 74. Log joint probability =    243.098. Improved by 3.80183e-05.\n",
      "Iteration 75. Log joint probability =    243.099. Improved by 3.00202e-05.\n",
      "Iteration 76. Log joint probability =    243.099. Improved by 7.4348e-06.\n",
      "Iteration 77. Log joint probability =    243.099. Improved by 1.34872e-05.\n",
      "Iteration 78. Log joint probability =    243.099. Improved by 1.07311e-05.\n",
      "Iteration 79. Log joint probability =    243.099. Improved by 1.39655e-05.\n",
      "Iteration 80. Log joint probability =    243.099. Improved by 3.5991e-06.\n",
      "Iteration 81. Log joint probability =    243.099. Improved by 2.04697e-05.\n",
      "Iteration 82. Log joint probability =    243.099. Improved by 1.03465e-05.\n",
      "Iteration 83. Log joint probability =    243.099. Improved by 8.68986e-06.\n",
      "Iteration 84. Log joint probability =    243.099. Improved by 5.26838e-06.\n",
      "Iteration 85. Log joint probability =    243.099. Improved by 5.81274e-06.\n",
      "Iteration 86. Log joint probability =    243.099. Improved by 6.48112e-06.\n",
      "Iteration 87. Log joint probability =    243.099. Improved by 1.93959e-06.\n",
      "Iteration 88. Log joint probability =    243.099. Improved by 5.20247e-06.\n",
      "Iteration 89. Log joint probability =    243.099. Improved by 5.07664e-07.\n",
      "Iteration 90. Log joint probability =    243.099. Improved by 3.69414e-06.\n",
      "Iteration 91. Log joint probability =    243.099. Improved by 1.72163e-06.\n",
      "Iteration 92. Log joint probability =    243.099. Improved by 1.08995e-06.\n",
      "Iteration 93. Log joint probability =    243.099. Improved by 2.24255e-06.\n",
      "Iteration 94. Log joint probability =    243.099. Improved by 3.48568e-06.\n",
      "Iteration 95. Log joint probability =    243.099. Improved by 2.5974e-06.\n",
      "Iteration 96. Log joint probability =    243.099. Improved by 2.14481e-06.\n",
      "Iteration 97. Log joint probability =    243.099. Improved by 3.18851e-07.\n",
      "Iteration 98. Log joint probability =    243.099. Improved by 1.90352e-06.\n",
      "Iteration 99. Log joint probability =    243.099. Improved by 6.37108e-07.\n",
      "Iteration 100. Log joint probability =    243.099. Improved by 1.95792e-06.\n",
      "Iteration 101. Log joint probability =    243.099. Improved by 1.97155e-06.\n",
      "Iteration 102. Log joint probability =    243.099. Improved by 7.86905e-07.\n",
      "Iteration 103. Log joint probability =    243.099. Improved by 3.76354e-07.\n",
      "Iteration 104. Log joint probability =    243.099. Improved by 3.63135e-07.\n",
      "Iteration 105. Log joint probability =    243.099. Improved by 3.23809e-07.\n",
      "Iteration 106. Log joint probability =    243.099. Improved by 6.39103e-08.\n",
      "Iteration 107. Log joint probability =    243.099. Improved by 4.56563e-07.\n",
      "Iteration 108. Log joint probability =    243.099. Improved by 2.63843e-07.\n",
      "Iteration 109. Log joint probability =    243.099. Improved by 5.95635e-07.\n",
      "Iteration 110. Log joint probability =    243.099. Improved by 1.97535e-07.\n",
      "Iteration 111. Log joint probability =    243.099. Improved by 1.06101e-07.\n",
      "Iteration 112. Log joint probability =    243.099. Improved by 8.04608e-08.\n",
      "Iteration 113. Log joint probability =    243.099. Improved by 5.71128e-08.\n",
      "Iteration 114. Log joint probability =    243.099. Improved by 1.68677e-09.\n"
     ]
    }
   ],
   "source": [
    "forecast1 = m1.predict(df_test)\n",
    "forecast2 = m2.predict(df_test)\n",
    "forecast3 = m3.predict(data_test)"
   ]
  },
  {
   "cell_type": "code",
   "execution_count": 29,
   "id": "52205c86",
   "metadata": {},
   "outputs": [],
   "source": [
    "mse1 = mean_squared_error(df_test[\"y\"], forecast1[\"yhat\"], squared=False)\n",
    "mse2 = mean_squared_error(df_test[\"y\"], forecast2[\"yhat\"], squared=False)\n",
    "mse3 = mean_squared_error(data_test[\"y\"], forecast3[\"yhat\"], squared=False)\n",
    "std12 = df['y'].std()\n",
    "std3 = data['y'].std()"
   ]
  },
  {
   "cell_type": "code",
   "execution_count": 30,
   "id": "72b52938",
   "metadata": {},
   "outputs": [
    {
     "data": {
      "text/plain": [
       "(0.055573846600964205, 0.055381040761057675, 0.9011149376356674)"
      ]
     },
     "execution_count": 30,
     "metadata": {},
     "output_type": "execute_result"
    }
   ],
   "source": [
    "evr1 = (std12 - mse1) / std12\n",
    "evr2 = (std12 - mse2) / std12\n",
    "evr3 = (std3 - mse3) / std3\n",
    "evr1, evr2, evr3"
   ]
  },
  {
   "cell_type": "code",
   "execution_count": null,
   "id": "9d633562",
   "metadata": {},
   "outputs": [],
   "source": []
  },
  {
   "cell_type": "code",
   "execution_count": null,
   "id": "6ad75185",
   "metadata": {},
   "outputs": [],
   "source": []
  }
 ],
 "metadata": {
  "kernelspec": {
   "display_name": "Python 3 (ipykernel)",
   "language": "python",
   "name": "python3"
  },
  "language_info": {
   "codemirror_mode": {
    "name": "ipython",
    "version": 3
   },
   "file_extension": ".py",
   "mimetype": "text/x-python",
   "name": "python",
   "nbconvert_exporter": "python",
   "pygments_lexer": "ipython3",
   "version": "3.9.6"
  }
 },
 "nbformat": 4,
 "nbformat_minor": 5
}
