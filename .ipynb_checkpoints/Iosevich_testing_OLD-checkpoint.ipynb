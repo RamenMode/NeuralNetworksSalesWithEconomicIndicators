{
 "cells": [
  {
   "cell_type": "markdown",
   "metadata": {},
   "source": [
    "# 0. Package Imports and Global Variable Declarations"
   ]
  },
  {
   "cell_type": "code",
   "execution_count": 64,
   "metadata": {},
   "outputs": [],
   "source": [
    "import pandas as pd\n",
    "import numpy as np\n",
    "import tensorflow as tf\n",
    "from tensorflow.python.keras.models import Sequential\n",
    "from tensorflow.python.keras.layers import Dense, Dropout\n",
    "import sklearn\n",
    "from sklearn.metrics import mean_squared_error\n",
    "from sklearn.model_selection import train_test_split\n",
    "import glob\n",
    "import os\n",
    "from datetime import datetime\n",
    "from pprint import pprint\n",
    "import warnings\n",
    "import sys\n",
    "from functools import reduce\n",
    "import math\n",
    "from copy import deepcopy\n",
    "from datetime import date\n",
    "import holidays\n",
    "from tqdm import tqdm\n",
    "\n",
    "HERE = os.getcwd() + '/'\n",
    "months = {\"JAN\":1, \"FEB\":2, \"MAR\":3, \"APR\":4, \"MAY\":5, \"JUN\":6, \n",
    "          \"JUL\":7, \"AUG\":8, \"SEP\":9, \"OCT\":10, \"NOV\":11, \"DEC\":12}\n",
    "warnings.simplefilter('ignore')"
   ]
  },
  {
   "cell_type": "code",
   "execution_count": 65,
   "metadata": {},
   "outputs": [
    {
     "data": {
      "text/plain": [
       "'1.0.2'"
      ]
     },
     "execution_count": 65,
     "metadata": {},
     "output_type": "execute_result"
    }
   ],
   "source": [
    "sklearn.__version__"
   ]
  },
  {
   "cell_type": "markdown",
   "metadata": {},
   "source": [
    "# 1. Define Testing Class"
   ]
  },
  {
   "cell_type": "code",
   "execution_count": 80,
   "metadata": {},
   "outputs": [],
   "source": [
    "class Testing:\n",
    "    \n",
    "    def __init__(self, data, indicators=None, epochs=100):\n",
    "        \"\"\"\n",
    "        data (pandas.DataFrame) : sales dataset\n",
    "            - has columns \"Month\", \"Year\" and \"Sales\"\n",
    "        indicators (pd.DataFrame) : indicator values with their corresponding datetimes\n",
    "            - has columns \"Day\", \"Month\", \"Year\" and \"Value\"\n",
    "            - if None, the model will train without an indicator feature\n",
    "        \n",
    "        \"\"\"\n",
    "        # Merge data and indicator into single dataframe\n",
    "        hasIndicator = False\n",
    "        if indicators is not None:\n",
    "            startDate = max([data[\"DateTime\"].min(), indicators[\"DateTime\"].min()])\n",
    "            hasIndicator = True\n",
    "            data = data[data[\"DateTime\"]>startDate].set_index(\"DateTime\")\n",
    "            indicators = indicators[indicators[\"DateTime\"]>startDate].set_index(\"DateTime\")\n",
    "            m = pd.concat([indicators, data], axis=1)\n",
    "            # Fill NAs\n",
    "            columns = m.columns\n",
    "            nearest_val_dict = {\"nearest_\" + col : None for col in columns}\n",
    "            for idx, row in m.iterrows():\n",
    "                for col in columns:\n",
    "                    if \"DateTime\" not in col:\n",
    "                        if math.isnan(row[col]):\n",
    "                            if nearest_val_dict[\"nearest_\" + col] is None:\n",
    "                                for val in m[col]:\n",
    "                                    if not math.isnan(val):\n",
    "                                        nearest_val_dict[\"nearest_\" + col] = val\n",
    "                                        break\n",
    "                            m[col].loc[idx] =  nearest_val_dict[\"nearest_\" + col]\n",
    "                        else:\n",
    "                            nearest_val_dict[\"nearest_\" + col] = row[col]\n",
    "            # split data into day, month, year\n",
    "            m = m.reset_index()\n",
    "            m[\"Day\"] = m[\"DateTime\"].apply(lambda x: x.day)\n",
    "            m[\"Month\"] = m[\"DateTime\"].apply(lambda x: x.month)\n",
    "            m[\"Year\"] = m[\"DateTime\"].apply(lambda x: x.year)\n",
    "            m = self.add_holidays_col(m)\n",
    "            \n",
    "            # Assign independent and dependent variables\n",
    "            m_train = m[m[\"DateTime\"] < pd.to_datetime(\"2016-01-01\")]\n",
    "            m_test = m[m[\"DateTime\"] > pd.to_datetime(\"2016-01-01\")]\n",
    "\n",
    "            self.X_train = m_train[m_train.columns.drop([\"Sales\", \"DateTime\"])]\n",
    "            self.X_test = m_test[m_train.columns.drop([\"Sales\", \"DateTime\"])]\n",
    "            self.y_train = m_train[\"Sales\"]\n",
    "            self.y_test = m_test[\"Sales\"]\n",
    "            \n",
    "        else:\n",
    "            data[\"Day\"] = data[\"DateTime\"].apply(lambda x: x.day)\n",
    "            data[\"Month\"] = data[\"DateTime\"].apply(lambda x: x.month)\n",
    "            data[\"Year\"] = data[\"DateTime\"].apply(lambda x: x.year)\n",
    "            data = self.add_holidays_col(data)\n",
    "            data_train = data[data[\"Year\"] < 2016]\n",
    "            data_test = data[data[\"Year\"] >= 2016]\n",
    "            self.X_train = data_train[[\"Day\", \"Month\", \"Year\", \"Holiday\"]]\n",
    "            self.X_test = data_test[[\"Day\", \"Month\", \"Year\", \"Holiday\"]]\n",
    "            self.y_train = data_train[\"Sales\"]\n",
    "            self.y_test = data_test[\"Sales\"]\n",
    "        \n",
    "        numInputs = len(self.X_train.columns)\n",
    "        print(self.X_train.shape, self.X_test.shape,\n",
    "              self.y_train.shape, self.y_test.shape)\n",
    "        self.model = self.create_model(numInputs)\n",
    "\n",
    "        pass\n",
    "    \n",
    "    def fit(self, epochs):\n",
    "        self.model.fit(self.X_train, self.y_train, epochs=epochs, batch_size=32,\n",
    "                       verbose=0, validation_data=(self.X_test, self.y_test))\n",
    "        pass\n",
    "\n",
    "    def create_model(self, input_dim, activation='relu',\n",
    "                     optimizer='adam', loss='mean_squared_error'):\n",
    "        \"\"\"\n",
    "        Create Dense neural network model for evaluating each indicator's explanatory strength\n",
    "\n",
    "        inputs\n",
    "        --\n",
    "        numNodes (int) : baseline number of nodes used for constructing\n",
    "                         the neural network layers\n",
    "        includeIndicator (bool) : Used to mark whether a model is fitted\n",
    "                                  with an indicator feature\n",
    "        activation, optimizer, loss (string) : Tensorflow neural \n",
    "                                               network parameters\n",
    "\n",
    "        outputs\n",
    "        --\n",
    "        model (tf.keras.Model()) : neural network model\n",
    "        \"\"\"\n",
    "\n",
    "        numNodes = np.prod(self.X_train.shape)\n",
    "        model = Sequential()\n",
    "        model.add(Dense(numNodes*2/3, activation = activation,\n",
    "                        input_dim=input_dim))\n",
    "        model.add(Dropout(0.2))\n",
    "        model.add(Dense(numNodes*1/3, activation = activation))\n",
    "        model.add(Dropout(0.2))\n",
    "        model.add(Dense(1, activation = 'linear'))\n",
    "        model.compile(optimizer=optimizer, loss=loss)\n",
    "        return model\n",
    "    \n",
    "    def predict(self, X):\n",
    "        return self.model.predict(X)\n",
    "    \n",
    "    def rmse(self, y_true=None, y_pred=None):\n",
    "        if y_true is None:\n",
    "            y_true = self.y_test\n",
    "        if y_pred is None:\n",
    "            y_pred = self.predict(self.X_test)\n",
    "        return np.sqrt(mean_squared_error(y_true, y_pred))\n",
    "    \n",
    "    def explained_variance_ratio(self, y_true=None, y_pred=None):\n",
    "        if y_true is None:\n",
    "            y_true = self.y_test\n",
    "        if y_pred is None:\n",
    "            y_pred = self.predict(self.X_test)\n",
    "        y_std = y_true.std()\n",
    "        return (y_std - np.sqrt(mean_squared_error(y_true, y_pred))) / y_std\n",
    "    \n",
    "    def add_holidays_col(self, df):\n",
    "\n",
    "        # Select country\n",
    "        #us_holidays = holidays.country_holidays('US')\n",
    "        us_holidays = holidays.US()\n",
    "        holidays_col = []\n",
    "\n",
    "        for idx, row in df.iterrows():\n",
    "            d = row[\"DateTime\"]\n",
    "            isholiday = d in us_holidays\n",
    "            holidays_col.append(isholiday)\n",
    "        df[\"Holiday\"] = isholiday\n",
    "        df[\"Holiday\"] = df[\"Holiday\"].astype(int)\n",
    "        return df\n",
    "    "
   ]
  },
  {
   "cell_type": "markdown",
   "metadata": {},
   "source": [
    "# 2. Choose a Sales Dataset"
   ]
  },
  {
   "cell_type": "code",
   "execution_count": 81,
   "metadata": {
    "scrolled": false
   },
   "outputs": [
    {
     "data": {
      "text/html": [
       "<div>\n",
       "<style scoped>\n",
       "    .dataframe tbody tr th:only-of-type {\n",
       "        vertical-align: middle;\n",
       "    }\n",
       "\n",
       "    .dataframe tbody tr th {\n",
       "        vertical-align: top;\n",
       "    }\n",
       "\n",
       "    .dataframe thead th {\n",
       "        text-align: right;\n",
       "    }\n",
       "</style>\n",
       "<table border=\"1\" class=\"dataframe\">\n",
       "  <thead>\n",
       "    <tr style=\"text-align: right;\">\n",
       "      <th></th>\n",
       "      <th>Date</th>\n",
       "      <th>Month</th>\n",
       "      <th>Year</th>\n",
       "      <th>Net Sales (billions)</th>\n",
       "      <th>Growth Rate</th>\n",
       "    </tr>\n",
       "  </thead>\n",
       "  <tbody>\n",
       "    <tr>\n",
       "      <th>0</th>\n",
       "      <td>12-Jan</td>\n",
       "      <td>1</td>\n",
       "      <td>2012</td>\n",
       "      <td>7.00</td>\n",
       "      <td>11%</td>\n",
       "    </tr>\n",
       "    <tr>\n",
       "      <th>1</th>\n",
       "      <td>12-Feb</td>\n",
       "      <td>2</td>\n",
       "      <td>2012</td>\n",
       "      <td>NaN</td>\n",
       "      <td>NaN</td>\n",
       "    </tr>\n",
       "    <tr>\n",
       "      <th>2</th>\n",
       "      <td>12-Mar</td>\n",
       "      <td>3</td>\n",
       "      <td>2012</td>\n",
       "      <td>9.13</td>\n",
       "      <td>10%</td>\n",
       "    </tr>\n",
       "    <tr>\n",
       "      <th>3</th>\n",
       "      <td>12-Apr</td>\n",
       "      <td>4</td>\n",
       "      <td>2012</td>\n",
       "      <td>7.25</td>\n",
       "      <td>7%</td>\n",
       "    </tr>\n",
       "    <tr>\n",
       "      <th>4</th>\n",
       "      <td>12-May</td>\n",
       "      <td>5</td>\n",
       "      <td>2012</td>\n",
       "      <td>7.67</td>\n",
       "      <td>7%</td>\n",
       "    </tr>\n",
       "    <tr>\n",
       "      <th>...</th>\n",
       "      <td>...</td>\n",
       "      <td>...</td>\n",
       "      <td>...</td>\n",
       "      <td>...</td>\n",
       "      <td>...</td>\n",
       "    </tr>\n",
       "    <tr>\n",
       "      <th>108</th>\n",
       "      <td>21-Jan</td>\n",
       "      <td>1</td>\n",
       "      <td>2021</td>\n",
       "      <td>13.64</td>\n",
       "      <td>18%</td>\n",
       "    </tr>\n",
       "    <tr>\n",
       "      <th>109</th>\n",
       "      <td>21-Feb</td>\n",
       "      <td>2</td>\n",
       "      <td>2021</td>\n",
       "      <td>14.05</td>\n",
       "      <td>15%</td>\n",
       "    </tr>\n",
       "    <tr>\n",
       "      <th>110</th>\n",
       "      <td>21-Mar</td>\n",
       "      <td>3</td>\n",
       "      <td>2021</td>\n",
       "      <td>18.21</td>\n",
       "      <td>18%</td>\n",
       "    </tr>\n",
       "    <tr>\n",
       "      <th>111</th>\n",
       "      <td>21-Apr</td>\n",
       "      <td>4</td>\n",
       "      <td>2021</td>\n",
       "      <td>15.21</td>\n",
       "      <td>34%</td>\n",
       "    </tr>\n",
       "    <tr>\n",
       "      <th>112</th>\n",
       "      <td>21-May</td>\n",
       "      <td>5</td>\n",
       "      <td>2021</td>\n",
       "      <td>15.59</td>\n",
       "      <td>24%</td>\n",
       "    </tr>\n",
       "  </tbody>\n",
       "</table>\n",
       "<p>113 rows × 5 columns</p>\n",
       "</div>"
      ],
      "text/plain": [
       "       Date  Month  Year  Net Sales (billions) Growth Rate\n",
       "0    12-Jan      1  2012                  7.00         11%\n",
       "1    12-Feb      2  2012                   NaN         NaN\n",
       "2    12-Mar      3  2012                  9.13         10%\n",
       "3    12-Apr      4  2012                  7.25          7%\n",
       "4    12-May      5  2012                  7.67          7%\n",
       "..      ...    ...   ...                   ...         ...\n",
       "108  21-Jan      1  2021                 13.64         18%\n",
       "109  21-Feb      2  2021                 14.05         15%\n",
       "110  21-Mar      3  2021                 18.21         18%\n",
       "111  21-Apr      4  2021                 15.21         34%\n",
       "112  21-May      5  2021                 15.59         24%\n",
       "\n",
       "[113 rows x 5 columns]"
      ]
     },
     "execution_count": 81,
     "metadata": {},
     "output_type": "execute_result"
    }
   ],
   "source": [
    "# Load dataset\n",
    "mrts_data = pd.read_csv(HERE + \"Data_Copy/mrtssales_92-present.csv\") \n",
    "cars = pd.read_csv(\"Data_Copy/MarylandVehicleSales2002-2021.csv\")\n",
    "costco = pd.read_csv(\"Data_Copy/Costco_Monthly Sales from 2012 to 2021.csv\")\n",
    "# total retail sales\n",
    "\n",
    "# Drop current month\n",
    "mrts_data = mrts_data[:-1] # delete present month\n",
    "cars = cars[:-1]\n",
    "costco = costco[:-1]\n",
    "\n",
    "# Transform 'Date' Column into 'Month' and 'Year' columns\n",
    "mrts_data['DateTime'] = mrts_data.iloc[:,0].apply(lambda x: pd.to_datetime(x.replace(\".\", \"\")))\n",
    "costco"
   ]
  },
  {
   "cell_type": "code",
   "execution_count": 82,
   "metadata": {},
   "outputs": [
    {
     "data": {
      "text/html": [
       "<div>\n",
       "<style scoped>\n",
       "    .dataframe tbody tr th:only-of-type {\n",
       "        vertical-align: middle;\n",
       "    }\n",
       "\n",
       "    .dataframe tbody tr th {\n",
       "        vertical-align: top;\n",
       "    }\n",
       "\n",
       "    .dataframe thead th {\n",
       "        text-align: right;\n",
       "    }\n",
       "</style>\n",
       "<table border=\"1\" class=\"dataframe\">\n",
       "  <thead>\n",
       "    <tr style=\"text-align: right;\">\n",
       "      <th></th>\n",
       "      <th>DateTime</th>\n",
       "      <th>Sales</th>\n",
       "    </tr>\n",
       "  </thead>\n",
       "  <tbody>\n",
       "    <tr>\n",
       "      <th>0</th>\n",
       "      <td>2012-01-01</td>\n",
       "      <td>7.00</td>\n",
       "    </tr>\n",
       "    <tr>\n",
       "      <th>2</th>\n",
       "      <td>2012-03-01</td>\n",
       "      <td>9.13</td>\n",
       "    </tr>\n",
       "    <tr>\n",
       "      <th>3</th>\n",
       "      <td>2012-04-01</td>\n",
       "      <td>7.25</td>\n",
       "    </tr>\n",
       "    <tr>\n",
       "      <th>4</th>\n",
       "      <td>2012-05-01</td>\n",
       "      <td>7.67</td>\n",
       "    </tr>\n",
       "    <tr>\n",
       "      <th>5</th>\n",
       "      <td>2012-06-01</td>\n",
       "      <td>9.18</td>\n",
       "    </tr>\n",
       "    <tr>\n",
       "      <th>...</th>\n",
       "      <td>...</td>\n",
       "      <td>...</td>\n",
       "    </tr>\n",
       "    <tr>\n",
       "      <th>108</th>\n",
       "      <td>2021-01-01</td>\n",
       "      <td>13.64</td>\n",
       "    </tr>\n",
       "    <tr>\n",
       "      <th>109</th>\n",
       "      <td>2021-02-01</td>\n",
       "      <td>14.05</td>\n",
       "    </tr>\n",
       "    <tr>\n",
       "      <th>110</th>\n",
       "      <td>2021-03-01</td>\n",
       "      <td>18.21</td>\n",
       "    </tr>\n",
       "    <tr>\n",
       "      <th>111</th>\n",
       "      <td>2021-04-01</td>\n",
       "      <td>15.21</td>\n",
       "    </tr>\n",
       "    <tr>\n",
       "      <th>112</th>\n",
       "      <td>2021-05-01</td>\n",
       "      <td>15.59</td>\n",
       "    </tr>\n",
       "  </tbody>\n",
       "</table>\n",
       "<p>112 rows × 2 columns</p>\n",
       "</div>"
      ],
      "text/plain": [
       "      DateTime  Sales\n",
       "0   2012-01-01   7.00\n",
       "2   2012-03-01   9.13\n",
       "3   2012-04-01   7.25\n",
       "4   2012-05-01   7.67\n",
       "5   2012-06-01   9.18\n",
       "..         ...    ...\n",
       "108 2021-01-01  13.64\n",
       "109 2021-02-01  14.05\n",
       "110 2021-03-01  18.21\n",
       "111 2021-04-01  15.21\n",
       "112 2021-05-01  15.59\n",
       "\n",
       "[112 rows x 2 columns]"
      ]
     },
     "execution_count": 82,
     "metadata": {},
     "output_type": "execute_result"
    }
   ],
   "source": [
    "# Sales Dataset 1\n",
    "retail_sales_tot = mrts_data[[\"DateTime\",\"Retail sales, total\"]]\n",
    "retail_sales_tot = retail_sales_tot.rename(columns={\"Retail sales, total\":\"Sales\"})\n",
    "\n",
    "# Sales Dataset 2\n",
    "car_sales = cars[[\"Year \", \"Month \", \"Total Sales Used\"]]\n",
    "car_sales[\"Month \"] = car_sales[\"Month \"].apply(lambda x: months[x])\n",
    "car_sales[\"DateTime\"] = car_sales[\"Year \"].astype(str) + \"-\" \\\n",
    "                        + car_sales[\"Month \"].astype(str) + \"-1\"\n",
    "car_sales[\"DateTime\"] = car_sales[\"DateTime\"].apply(lambda x: pd.to_datetime(x))\n",
    "car_sales = car_sales.rename(columns={\"Total Sales Used\":\"Sales\"})[[\"DateTime\", \"Sales\"]]\n",
    "\n",
    "# Sales Dataset 3\n",
    "costco = costco.rename(columns={\"Net Sales (billions)\":\"Sales\"})\n",
    "costco[\"DateTime\"] = costco[\"DateTime\"] = costco[\"Year\"].astype(str) + \"-\" \\\n",
    "                    + costco[\"Month\"].astype(str) + \"-1\"\n",
    "costco = costco[[\"DateTime\",\"Sales\"]]\n",
    "costco[\"DateTime\"] = costco[\"DateTime\"].apply(lambda x: pd.to_datetime(x))\n",
    "costco = costco.dropna()\n",
    "costco"
   ]
  },
  {
   "cell_type": "markdown",
   "metadata": {},
   "source": [
    "# 3. Choose an Indicator"
   ]
  },
  {
   "cell_type": "code",
   "execution_count": 83,
   "metadata": {},
   "outputs": [],
   "source": [
    "# Load in indicator csv\n",
    "indicator_filenames_list = [\n",
    "    \"historical_country_United_States\"\\\n",
    "    \"_indicator_Jobless_Claims_4_week\"\\\n",
    "    \"_Average.csv\",\n",
    "    \"historical_country_United_States\"\\\n",
    "    \"_indicator_Jobless_Claims_4_week\"\\\n",
    "    \"_Average.csv\"\n",
    "]\n",
    "\n",
    "indicator_filenames = \\\n",
    "    \"historical_country_United_States\"\\\n",
    "    \"_indicator_Jobless_Claims_4_week\"\\\n",
    "    \"_Average.csv \"\\\n",
    "    \"historical_country_United_States\"\\\n",
    "    \"_indicator_API_Heating_Oil \"\\\n",
    "    \"historical_country_United_States\"\\\n",
    "    \"_indicator_Asylum_Applications.csv\""
   ]
  },
  {
   "cell_type": "code",
   "execution_count": 84,
   "metadata": {},
   "outputs": [],
   "source": [
    "# Transform csv for modeling\n",
    "def load_indicators(indicator_filenames):\n",
    "    \"\"\"\n",
    "    indicator_filenames (str) : indicator filenames separated by a spaces\n",
    "    \n",
    "    Returns\n",
    "    --\n",
    "    merged_indicators (pd.DataFrame) : indicator\n",
    "    \"\"\"\n",
    "    \n",
    "    # Case where we use a single indicator\n",
    "    if \" \" not in indicator_filenames:\n",
    "        print(\"Loading one indicator\")\n",
    "        if \".csv\" not in indicator_filenames:\n",
    "            indicator_filenames += \".csv\"\n",
    "            \n",
    "        indicator = pd.read_csv(\"Data_Copy/Economic indicators/\" + indicator_filenames)\n",
    "        indicator[\"DateTime\"] = pd.to_datetime(indicator['DateTime']).dt.date\n",
    "        return indicator[[\"DateTime\", \"Value\"]]\n",
    "    \n",
    "    # Case where we use multiple indicators\n",
    "    print(\"Loading multiple indicators\")\n",
    "    indicator_filenames = indicator_filenames.split(\" \")\n",
    "    # Add .csv if not at the end\n",
    "    for i, ind_file in enumerate(indicator_filenames):\n",
    "        if \".csv\" not in ind_file:\n",
    "            indicator_filenames[i] += \".csv\"\n",
    "            \n",
    "    # read in indicator files\n",
    "    indicators1 = [pd.read_csv(\"Data_Copy/Economic indicators/\" + ind_file)\n",
    "                  for ind_file in indicator_filenames]\n",
    "    \n",
    "    # Turn DateTime string into datetime objects\n",
    "    indicators2 = []\n",
    "    for indicator in indicators1:\n",
    "        indicator[\"DateTime\"] = indicator[\"DateTime\"].apply(lambda x: pd.to_datetime(x))\n",
    "        indicators2.append(indicator[[\"DateTime\", \"Value\"]])\n",
    "        \n",
    "    start_dates = [ind[\"DateTime\"].min() for ind in indicators2]\n",
    "    start_date = max(start_dates)\n",
    "        \n",
    "    # remove dates before last start date\n",
    "    indicators3 = []\n",
    "    ind3idx = []\n",
    "    # Keep dates that are in every indicator file being used\n",
    "    for i, ind in enumerate(indicators2):\n",
    "        ind3 = ind[ind[\"DateTime\"] >= start_date]\n",
    "        indicators3.append(ind3)\n",
    "\n",
    "    # Source: https://stackoverflow.com/questions/44327999/python-pandas-merge-multiple-dataframes\n",
    "    merged_indicators = \\\n",
    "        reduce(lambda left,right: pd.merge(left, right,\n",
    "                                           on=['DateTime'], how='outer'),\n",
    "                       indicators3).sort_values(by=\"DateTime\").reset_index(drop=True)\n",
    "    columns = merged_indicators.columns\n",
    "    nearest_val_dict = {\"nearest_\" + col : None for col in columns}\n",
    "    for idx, row in merged_indicators.iterrows():\n",
    "        for col in columns:\n",
    "            if \"DateTime\" not in col:\n",
    "                if math.isnan(row[col]):\n",
    "                    if nearest_val_dict[\"nearest_\" + col] is None:\n",
    "                        for val in merged_indicators[col]:\n",
    "                            if not math.isnan(val):\n",
    "                                nearest_val_dict[\"nearest_\" + col] = val\n",
    "                                break\n",
    "                    merged_indicators[col].iloc[idx] =  nearest_val_dict[\"nearest_\" + col]\n",
    "                else:\n",
    "                    nearest_val_dict[\"nearest_\" + col] = row[col]\n",
    "    v = 0\n",
    "    rename_cols = {}\n",
    "    for col in columns:\n",
    "        if \"DateTime\" in col:\n",
    "            continue\n",
    "        v += 1\n",
    "        rename_cols[col] = \"Value\" + str(v)\n",
    "        \"\"\n",
    "    return merged_indicators.rename(columns=rename_cols)"
   ]
  },
  {
   "cell_type": "code",
   "execution_count": 85,
   "metadata": {
    "scrolled": true
   },
   "outputs": [
    {
     "name": "stdout",
     "output_type": "stream",
     "text": [
      "Loading one indicator\n",
      "Loading multiple indicators\n"
     ]
    }
   ],
   "source": [
    "indicators_df_single = load_indicators(indicator_filenames_list[0])\n",
    "indicators_df_multi = load_indicators(indicator_filenames)"
   ]
  },
  {
   "cell_type": "markdown",
   "metadata": {},
   "source": [
    "# 4. Test training NN with and without Indicator"
   ]
  },
  {
   "cell_type": "markdown",
   "metadata": {},
   "source": [
    "Hyperparameter options:\n",
    "- optimizer\n",
    "- activation\n",
    "- loss function"
   ]
  },
  {
   "cell_type": "code",
   "execution_count": 89,
   "metadata": {},
   "outputs": [
    {
     "name": "stdout",
     "output_type": "stream",
     "text": [
      "(47, 4) (65, 4) (47,) (65,)\n",
      "(247, 5) (348, 5) (247,) (348,)\n",
      "CPU times: user 550 ms, sys: 16 ms, total: 566 ms\n",
      "Wall time: 517 ms\n"
     ]
    }
   ],
   "source": [
    "%%time\n",
    "# t1 = Testing(retail_sales_tot, indicators=indicators_df_multi)\n",
    "# t2 = Testing(retail_sales_tot, indicators=None)\n",
    "# t3 = Testing(retail_sales_tot, indicators=indicators_df_single)\n",
    "#t1 = Testing(costco, indicators=indicators_df_multi)\n",
    "t2 = Testing(costco, indicators=None)\n",
    "t3 = Testing(costco, indicators=indicators_df_single)"
   ]
  },
  {
   "cell_type": "code",
   "execution_count": 90,
   "metadata": {},
   "outputs": [
    {
     "name": "stdout",
     "output_type": "stream",
     "text": [
      "CPU times: user 2 µs, sys: 3 µs, total: 5 µs\n",
      "Wall time: 10 µs\n"
     ]
    }
   ],
   "source": [
    "%%time\n",
    "#t1.fit(epochs=25)"
   ]
  },
  {
   "cell_type": "code",
   "execution_count": 91,
   "metadata": {},
   "outputs": [
    {
     "name": "stdout",
     "output_type": "stream",
     "text": [
      "WARNING:tensorflow:Falling back from v2 loop because of error: Failed to find data adapter that can handle input: <class 'pandas.core.frame.DataFrame'>, <class 'NoneType'>\n",
      "CPU times: user 1.5 s, sys: 3.59 s, total: 5.09 s\n",
      "Wall time: 1.15 s\n"
     ]
    }
   ],
   "source": [
    "%%time\n",
    "t2.fit(epochs=25)"
   ]
  },
  {
   "cell_type": "code",
   "execution_count": 92,
   "metadata": {},
   "outputs": [
    {
     "name": "stdout",
     "output_type": "stream",
     "text": [
      "WARNING:tensorflow:Falling back from v2 loop because of error: Failed to find data adapter that can handle input: <class 'pandas.core.frame.DataFrame'>, <class 'NoneType'>\n",
      "CPU times: user 8.65 s, sys: 16.9 s, total: 25.6 s\n",
      "Wall time: 2.94 s\n"
     ]
    }
   ],
   "source": [
    "%%time\n",
    "t3.fit(epochs=25)"
   ]
  },
  {
   "cell_type": "code",
   "execution_count": 93,
   "metadata": {
    "scrolled": true
   },
   "outputs": [
    {
     "name": "stdout",
     "output_type": "stream",
     "text": [
      "     Day  Month  Year  Holiday  Value1  Value2    Value3\n",
      "396   29      8  2020        0   887.5   0.053  214249.0\n",
      "397    4      9  2020        0   887.5  -0.427  214249.0\n",
      "398    5      9  2020        0   887.0  -0.427  214249.0\n",
      "399   11      9  2020        0   887.0   0.132  214249.0\n",
      "400   12      9  2020        0   872.0   0.132  214249.0\n",
      "401   18      9  2020        0   872.0   0.742  214249.0\n",
      "402   19      9  2020        0   869.0   0.742  214249.0\n",
      "403   25      9  2020        0   869.0   0.206  214249.0\n",
      "404   26      9  2020        0   851.0   0.206  214249.0\n",
      "405    2     10  2020        0   851.0  -0.072  214249.0\n",
      "\n",
      "\n",
      "      Day  Month  Year  Holiday\n",
      "2746   14      9  2019        0\n",
      "2747   21      9  2019        0\n",
      "2748   28      9  2019        0\n",
      "2749    5     10  2019        0\n",
      "2750   12     10  2019        0\n",
      "2751   19     10  2019        0\n",
      "2752   26     10  2019        0\n",
      "2753    2     11  2019        0\n",
      "2754    9     11  2019        0\n",
      "2755   16     11  2019        0\n",
      "\n",
      "\n",
      "      Day  Month  Year  Holiday   Value\n",
      "2746   14      9  2019        0  213.00\n",
      "2747   21      9  2019        0  213.00\n",
      "2748   28      9  2019        0  212.75\n",
      "2749    5     10  2019        0  213.75\n",
      "2750   12     10  2019        0  215.25\n",
      "2751   19     10  2019        0  214.50\n",
      "2752   26     10  2019        0  214.25\n",
      "2753    2     11  2019        0  214.00\n",
      "2754    9     11  2019        0  215.25\n",
      "2755   16     11  2019        0  217.50\n"
     ]
    }
   ],
   "source": [
    "X1_test_dt = pd.to_datetime(indicators_df_multi['DateTime']).dt.date\n",
    "X1_test = pd.DataFrame()\n",
    "X1_test[\"Day\"] = X1_test_dt.apply(lambda x: x.day)\n",
    "X1_test[\"Month\"] = X1_test_dt.apply(lambda x: x.month)\n",
    "X1_test[\"Year\"] = X1_test_dt.apply(lambda x: x.year)\n",
    "\n",
    "X1_test_dt = t1.add_holidays_col(pd.DataFrame(X1_test_dt))\n",
    "X1_test[\"Holiday\"] = X1_test_dt[\"Holiday\"]\n",
    "\n",
    "for col in indicators_df_multi.columns:\n",
    "    if \"Value\" in col:\n",
    "        X1_test[col] = indicators_df_multi[col]\n",
    "\n",
    "X1_test = X1_test.iloc[-100:-90,:]\n",
    "\n",
    "X3_test_dt = pd.to_datetime(indicators_df_single['DateTime']).dt.date\n",
    "X3_test = pd.DataFrame()\n",
    "X3_test[\"Day\"] = X3_test_dt.apply(lambda x: x.day)\n",
    "X3_test[\"Month\"] = X3_test_dt.apply(lambda x: x.month)\n",
    "X3_test[\"Year\"] = X3_test_dt.apply(lambda x: x.year)\n",
    "\n",
    "X3_test_dt = t3.add_holidays_col(pd.DataFrame(X3_test_dt))\n",
    "X3_test[\"Holiday\"] = X3_test_dt[\"Holiday\"]\n",
    "X3_test[\"Value\"] = indicators_df_single[\"Value\"]\n",
    "X3_test = X3_test.iloc[-100:-90,:]\n",
    "\n",
    "X2_test = X3_test.drop(columns=[\"Value\"])\n",
    "\n",
    "print(X1_test, X2_test, X3_test, sep=\"\\n\\n\\n\")"
   ]
  },
  {
   "cell_type": "code",
   "execution_count": 94,
   "metadata": {},
   "outputs": [],
   "source": [
    "X1_test = X1_test.values.reshape(-1, len(X1_test.columns))\n",
    "X2_test = X2_test.values.reshape(-1, len(X2_test.columns))\n",
    "X3_test = X3_test.values.reshape(-1, len(X3_test.columns))"
   ]
  },
  {
   "cell_type": "code",
   "execution_count": 95,
   "metadata": {},
   "outputs": [
    {
     "name": "stdout",
     "output_type": "stream",
     "text": [
      "With N Indicators:\n",
      "[[0.]\n",
      " [0.]\n",
      " [0.]\n",
      " [0.]\n",
      " [0.]\n",
      " [0.]\n",
      " [0.]\n",
      " [0.]\n",
      " [0.]\n",
      " [0.]]\n",
      "\n",
      "Without Indicator:\n",
      "[[15.799117]\n",
      " [15.473498]\n",
      " [15.147885]\n",
      " [15.98854 ]\n",
      " [15.771125]\n",
      " [15.445531]\n",
      " [15.119922]\n",
      " [15.904822]\n",
      " [15.781461]\n",
      " [15.464042]]\n",
      "\n",
      "With 1 Indicator:\n",
      "[[-29.462996]\n",
      " [-29.68671 ]\n",
      " [-29.90112 ]\n",
      " [-29.206732]\n",
      " [-29.460314]\n",
      " [-29.662401]\n",
      " [-29.887169]\n",
      " [-29.12688 ]\n",
      " [-29.3747  ]\n",
      " [-29.646856]]\n"
     ]
    }
   ],
   "source": [
    "t1_preds = t1.predict(X1_test)\n",
    "t2_preds = t2.predict(X2_test)\n",
    "t3_preds = t3.predict(X3_test)\n",
    "print(f\"With N Indicators:\\n{t1_preds}\\n\")\n",
    "print(f\"Without Indicator:\\n{t2_preds}\\n\")\n",
    "print(f\"With 1 Indicator:\\n{t3_preds}\")"
   ]
  },
  {
   "cell_type": "code",
   "execution_count": 96,
   "metadata": {},
   "outputs": [
    {
     "name": "stdout",
     "output_type": "stream",
     "text": [
      "WARNING:tensorflow:Falling back from v2 loop because of error: Failed to find data adapter that can handle input: <class 'pandas.core.frame.DataFrame'>, <class 'NoneType'>\n",
      "WARNING:tensorflow:Falling back from v2 loop because of error: Failed to find data adapter that can handle input: <class 'pandas.core.frame.DataFrame'>, <class 'NoneType'>\n",
      "WARNING:tensorflow:Falling back from v2 loop because of error: Failed to find data adapter that can handle input: <class 'pandas.core.frame.DataFrame'>, <class 'NoneType'>\n",
      "With multiple indicators: 13.112620862786432\n",
      "Without Indicator 5.107967300763719\n",
      "With single indicator 14.926488608774193\n"
     ]
    },
    {
     "data": {
      "image/png": "[encoded data removed]",
      "text/plain": [
       "<Figure size 432x288 with 1 Axes>"
      ]
     },
     "metadata": {
      "needs_background": "light"
     },
     "output_type": "display_data"
    }
   ],
   "source": [
    "t1_mse = t1.rmse()\n",
    "t2_mse = t2.rmse()\n",
    "t3_mse = t3.rmse()\n",
    "print(\"With multiple indicators:\", t1_mse)\n",
    "print(\"Without Indicator\", t2_mse)\n",
    "print(\"With single indicator\", t3_mse)\n",
    "\n",
    "import matplotlib.pyplot as plt\n",
    "\n",
    "names = [\"Multiple Indicators\", \"No Indicators\", \"One Indicator\"]\n",
    "mses = [t1_mse, t2_mse, t3_mse]\n",
    "\n",
    "plt.bar(names, mses)\n",
    "plt.ylabel(\"MSE\")\n",
    "plt.show()"
   ]
  },
  {
   "cell_type": "code",
   "execution_count": 97,
   "metadata": {},
   "outputs": [
    {
     "name": "stdout",
     "output_type": "stream",
     "text": [
      "Error Ratios:\n",
      "\tmulti over none: 2.5670917785291802\n",
      "\tmulti over one: 0.8784799430375393\n",
      "\tone over none: 2.922197369302355\n"
     ]
    }
   ],
   "source": [
    "multi_over_none = t1_mse / t2_mse\n",
    "multi_over_one = t1_mse / t3_mse\n",
    "one_over_none = t3_mse / t2_mse\n",
    "print(\"Error Ratios:\")\n",
    "print(\"\\tmulti over none: \" + str(multi_over_none))\n",
    "print(\"\\tmulti over one: \" + str(multi_over_one))\n",
    "print(\"\\tone over none: \" + str(one_over_none))"
   ]
  },
  {
   "cell_type": "code",
   "execution_count": 98,
   "metadata": {},
   "outputs": [
    {
     "name": "stdout",
     "output_type": "stream",
     "text": [
      "WARNING:tensorflow:Falling back from v2 loop because of error: Failed to find data adapter that can handle input: <class 'pandas.core.frame.DataFrame'>, <class 'NoneType'>\n",
      "WARNING:tensorflow:Falling back from v2 loop because of error: Failed to find data adapter that can handle input: <class 'pandas.core.frame.DataFrame'>, <class 'NoneType'>\n",
      "WARNING:tensorflow:Falling back from v2 loop because of error: Failed to find data adapter that can handle input: <class 'pandas.core.frame.DataFrame'>, <class 'NoneType'>\n",
      "With multiple indicators: -4.629351511108591\n",
      "Without Indicator -1.0367395871792997\n",
      "With single indicator -4.974055197105543\n"
     ]
    },
    {
     "data": {
      "image/png": "[encoded data removed]",
      "text/plain": [
       "<Figure size 432x288 with 1 Axes>"
      ]
     },
     "metadata": {
      "needs_background": "light"
     },
     "output_type": "display_data"
    }
   ],
   "source": [
    "t1_evr = t1.explained_variance_ratio()\n",
    "t2_evr = t2.explained_variance_ratio()\n",
    "t3_evr = t3.explained_variance_ratio()\n",
    "print(\"With multiple indicators:\", t1_evr)\n",
    "print(\"Without Indicator\", t2_evr)\n",
    "print(\"With single indicator\", t3_evr)\n",
    "\n",
    "import matplotlib.pyplot as plt\n",
    "\n",
    "names = [\"Multiple Indicators\", \"No Indicators\", \"One Indicator\"]\n",
    "evrs = [t1_evr, t2_evr, t3_evr]\n",
    "\n",
    "plt.bar(names, evrs)\n",
    "plt.ylabel(\"EVR\")\n",
    "plt.show()"
   ]
  },
  {
   "cell_type": "code",
   "execution_count": null,
   "metadata": {},
   "outputs": [],
   "source": []
  }
 ],
 "metadata": {
  "kernelspec": {
   "display_name": "Python 3",
   "language": "python",
   "name": "python3"
  },
  "language_info": {
   "codemirror_mode": {
    "name": "ipython",
    "version": 3
   },
   "file_extension": ".py",
   "mimetype": "text/x-python",
   "name": "python",
   "nbconvert_exporter": "python",
   "pygments_lexer": "ipython3",
   "version": "3.7.4"
  }
 },
 "nbformat": 4,
 "nbformat_minor": 5
}
